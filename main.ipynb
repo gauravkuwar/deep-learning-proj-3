{
 "cells": [
  {
   "cell_type": "markdown",
   "id": "ec67d063-17ee-4d56-8301-bc0e531eb273",
   "metadata": {},
   "source": [
    "# Deep Learning Project 3 - Jailbreaking Deep Models"
   ]
  },
  {
   "cell_type": "code",
   "execution_count": 28,
   "id": "aa55766e-0c27-4a2f-9147-7e65dae83cdb",
   "metadata": {},
   "outputs": [],
   "source": [
    "import torch\n",
    "import torchvision\n",
    "import torchvision.transforms as transforms\n",
    "import numpy as np\n",
    "from torch.utils.data import DataLoader\n",
    "from torchvision.datasets import ImageFolder\n",
    "from torch.nn.functional import softmax\n",
    "import json\n",
    "from tqdm import tqdm"
   ]
  },
  {
   "cell_type": "markdown",
   "id": "d58031b8-4ef6-4e1a-b764-89bab5a122e4",
   "metadata": {},
   "source": [
    "## Task 1: Basics"
   ]
  },
  {
   "cell_type": "code",
   "execution_count": 50,
   "id": "57a0cbc9-c63c-49c9-8aae-e10ef5184900",
   "metadata": {},
   "outputs": [],
   "source": [
    "mean_norms = np.array([0.485, 0.456, 0.406])\n",
    "std_norms = np.array([0.229, 0.224, 0.225])\n",
    "\n",
    "plain_transforms = transforms.Compose([\n",
    "    transforms.ToTensor(),\n",
    "    transforms.Normalize(mean=mean_norms,\n",
    "    std=std_norms)\n",
    "])"
   ]
  },
  {
   "cell_type": "code",
   "execution_count": 57,
   "id": "750b71a2-de3d-4083-ad9b-34f9ea19d03c",
   "metadata": {},
   "outputs": [],
   "source": [
    "# Maps dataset labels correctly to ImageNet classes\n",
    "class ImageNetMappedDataset(torch.utils.data.Dataset):\n",
    "    def __init__(self, base_dataset, offset=401):\n",
    "        self.base = base_dataset\n",
    "        self.offset = offset\n",
    "\n",
    "    def __getitem__(self, idx):\n",
    "        img, label = self.base[idx]\n",
    "        return img, label + self.offset  # remap label\n",
    "\n",
    "    def __len__(self):\n",
    "        return len(self.base)"
   ]
  },
  {
   "cell_type": "code",
   "execution_count": 76,
   "id": "ad5459a1-35dc-470e-926d-fc8035a5a115",
   "metadata": {},
   "outputs": [],
   "source": [
    "dataset_path = \"./TestDataSet\"\n",
    "dataset = torchvision.datasets.ImageFolder(root=dataset_path, transform=plain_transforms)\n",
    "dataset = ImageNetMappedDataset(dataset)"
   ]
  },
  {
   "cell_type": "code",
   "execution_count": 77,
   "id": "a2c8c614-7dea-4b13-aa1a-0938d80322ec",
   "metadata": {},
   "outputs": [
    {
     "name": "stdout",
     "output_type": "stream",
     "text": [
      "Using device: mps\n"
     ]
    }
   ],
   "source": [
    "if torch.backends.mps.is_available():\n",
    "    device = torch.device(\"mps\")\n",
    "elif torch.cuda.is_available():\n",
    "    device = torch.device(\"cuda\")\n",
    "else:\n",
    "    device = torch.device(\"cpu\")\n",
    "\n",
    "print(f\"Using device: {device}\")"
   ]
  },
  {
   "cell_type": "code",
   "execution_count": 78,
   "id": "a6b56a30-86de-4fd3-9155-7ee0512ccd65",
   "metadata": {
    "scrolled": true
   },
   "outputs": [],
   "source": [
    "# Load pretrained ResNet-34\n",
    "pretrained_model = torchvision.models.resnet34(weights='IMAGENET1K_V1')\n",
    "pretrained_model.eval().to(device)\n",
    "pass"
   ]
  },
  {
   "cell_type": "code",
   "execution_count": 82,
   "id": "34374d4d-3181-4826-9724-2df3ac9c6a13",
   "metadata": {},
   "outputs": [],
   "source": [
    "def evaluate(model, dataset):\n",
    "    loader = DataLoader(dataset, batch_size=32, shuffle=False)\n",
    "    top1_correct, top5_correct, total = 0, 0, 0\n",
    "    \n",
    "    with torch.no_grad():\n",
    "        for imgs, labels in tqdm(loader):\n",
    "            imgs, labels = imgs.to(device), labels.to(device)\n",
    "            outputs = model(imgs)\n",
    "            probs = softmax(outputs, dim=1)\n",
    "            \n",
    "            _, top5 = probs.topk(5, dim=1)\n",
    "            top1 = top5[:, 0]\n",
    "            top1_correct += (top1 == labels).sum().item()\n",
    "            top5_correct += sum([label in top5[i] for i, label in enumerate(labels)])\n",
    "            total += labels.size(0)\n",
    "            \n",
    "    top1_acc = 100 * top1_correct / total\n",
    "    top5_acc = 100 * top5_correct / total\n",
    "\n",
    "    print(f\"Top-1 Accuracy: {top1_acc:.2f}%\")\n",
    "    print(f\"Top-5 Accuracy: {top5_acc:.2f}%\")\n",
    "    \n",
    "    return top1_acc, top5_acc"
   ]
  },
  {
   "cell_type": "code",
   "execution_count": 83,
   "id": "109f21cd-2fe0-4ca9-a92c-11b82a8a7cc5",
   "metadata": {},
   "outputs": [
    {
     "name": "stderr",
     "output_type": "stream",
     "text": [
      "100%|█████████████████████████████████████████████████████████████████████████████████████████████████████████████████████████████████████████████████████████████████████████████████| 16/16 [00:01<00:00,  9.42it/s]"
     ]
    },
    {
     "name": "stdout",
     "output_type": "stream",
     "text": [
      "Top-1 Accuracy: 76.00%\n",
      "Top-5 Accuracy: 94.00%\n"
     ]
    },
    {
     "name": "stderr",
     "output_type": "stream",
     "text": [
      "\n"
     ]
    }
   ],
   "source": [
    "top1_acc, top5_acc = evaluate(pretrained_model, dataset)"
   ]
  },
  {
   "cell_type": "markdown",
   "id": "62422aa4-c50e-43fa-aec1-be11907d5ef9",
   "metadata": {},
   "source": [
    "## Task 2:  Pixel-wise attacks"
   ]
  },
  {
   "cell_type": "code",
   "execution_count": null,
   "id": "5940cdee-6166-4d21-b6a7-e7dd7f3373c5",
   "metadata": {},
   "outputs": [],
   "source": [
    "adversarial_test_set_1 = dataset"
   ]
  },
  {
   "cell_type": "markdown",
   "id": "e10db302-9056-4e8c-aeca-999884cb5f98",
   "metadata": {},
   "source": [
    "## Task 3: Improved attacks"
   ]
  },
  {
   "cell_type": "code",
   "execution_count": null,
   "id": "138c8863-6699-451f-9e4e-d8a9d96d7264",
   "metadata": {},
   "outputs": [],
   "source": [
    "adversarial_test_set_2 = dataset"
   ]
  },
  {
   "cell_type": "markdown",
   "id": "acd2a689-658d-4cd3-99c1-780bafccddc6",
   "metadata": {},
   "source": [
    "## Task 4: Patch attacks"
   ]
  },
  {
   "cell_type": "code",
   "execution_count": null,
   "id": "e156b71b-4556-4c42-b2fa-62ce16771584",
   "metadata": {},
   "outputs": [],
   "source": [
    "adversarial_test_set_3 = dataset"
   ]
  },
  {
   "cell_type": "markdown",
   "id": "ef88779e-7047-437f-b8e0-1fbd8cb9755b",
   "metadata": {},
   "source": [
    "## Task 5: Transferring attacks"
   ]
  },
  {
   "cell_type": "code",
   "execution_count": null,
   "id": "879f219b-291b-4d58-a821-e9c0e369c9bb",
   "metadata": {},
   "outputs": [],
   "source": []
  }
 ],
 "metadata": {
  "kernelspec": {
   "display_name": "Python 3 (ipykernel)",
   "language": "python",
   "name": "python3"
  },
  "language_info": {
   "codemirror_mode": {
    "name": "ipython",
    "version": 3
   },
   "file_extension": ".py",
   "mimetype": "text/x-python",
   "name": "python",
   "nbconvert_exporter": "python",
   "pygments_lexer": "ipython3",
   "version": "3.11.8"
  }
 },
 "nbformat": 4,
 "nbformat_minor": 5
}
